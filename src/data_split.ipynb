{
 "cells": [
  {
   "cell_type": "code",
   "execution_count": 9,
   "metadata": {},
   "outputs": [
    {
     "name": "stdout",
     "output_type": "stream",
     "text": [
      "total label: 18\n",
      "label: ['electronic cigarettes', 'between attendant and passengers', 'crew-related issues', 'fume/smoke incident', 'between attendant and other people', 'safety related', 'emergency', 'mask policy', 'communication issues', 'passenger-related issues', 'weather related', 'equipment malfunction', 'health and medical issues', 'training', 'disruptive', 'lithium batteries', 'operational issues', 'between attendant and crew']\n"
     ]
    }
   ],
   "source": [
    "import pandas as pd\n",
    "import os\n",
    "\n",
    "df = pd.read_csv(\"../docs/event_objective_summary.csv\")\n",
    "\n",
    "\n",
    "assigned_labels = df['assigned_labels'].dropna()\n",
    "\n",
    "\n",
    "all_labels = assigned_labels.str.split(',').explode().str.strip()\n",
    "\n",
    "\n",
    "unique_labels = set(all_labels)\n",
    "\n",
    "print(f'total label: {len(unique_labels)}')\n",
    "print('label:', list(unique_labels))"
   ]
  },
  {
   "cell_type": "code",
   "execution_count": 10,
   "metadata": {},
   "outputs": [
    {
     "name": "stdout",
     "output_type": "stream",
     "text": [
      "labels：\n",
      "assigned_labels\n",
      "safety related                        264\n",
      "crew-related issues                   243\n",
      "operational issues                    241\n",
      "between attendant and crew            220\n",
      "between attendant and passengers      219\n",
      "mask policy                           156\n",
      "communication issues                  154\n",
      "disruptive                             85\n",
      "passenger-related issues               70\n",
      "equipment malfunction                  49\n",
      "health and medical issues              48\n",
      "between attendant and other people     41\n",
      "training                               40\n",
      "emergency                              28\n",
      "fume/smoke incident                    20\n",
      "lithium batteries                      10\n",
      "electronic cigarettes                   9\n",
      "weather related                         8\n",
      "Name: count, dtype: int64\n"
     ]
    }
   ],
   "source": [
    "label_counts = all_labels.value_counts()\n",
    "\n",
    "print(\"labels：\")\n",
    "print(label_counts.head(18))"
   ]
  },
  {
   "cell_type": "code",
   "execution_count": null,
   "metadata": {},
   "outputs": [
    {
     "name": "stdout",
     "output_type": "stream",
     "text": [
      "save: electronic_cigarettes.csv\n",
      "save: between_attendant_and_passengers.csv\n",
      "save: crew-related_issues.csv\n",
      "save: fume_smoke_incident.csv\n",
      "save: between_attendant_and_other_people.csv\n",
      "save: safety_related.csv\n",
      "save: emergency.csv\n",
      "save: mask_policy.csv\n",
      "save: communication_issues.csv\n",
      "save: passenger-related_issues.csv\n",
      "save: weather_related.csv\n",
      "save: equipment_malfunction.csv\n",
      "save: health_and_medical_issues.csv\n",
      "save: training.csv\n",
      "save: disruptive.csv\n",
      "save: lithium_batteries.csv\n",
      "save: operational_issues.csv\n",
      "save: between_attendant_and_crew.csv\n"
     ]
    }
   ],
   "source": [
    "output_dir = '../docs/label_datasets'\n",
    "os.makedirs(output_dir, exist_ok=True)\n",
    "\n",
    "for label in unique_labels:\n",
    "    safe_label = label.replace(\" \", \"_\").replace(\"/\", \"_\")\n",
    "\n",
    "   \n",
    "    subset = df[df['assigned_labels'].str.contains(rf'\\b{label}\\b', na=False)].copy()\n",
    "\n",
    "    subset.rename(columns={'assigned_labels': 'label'}, inplace=True)\n",
    "    subset['label'] = label\n",
    "\n",
    "    subset.to_csv(os.path.join(output_dir, f\"{safe_label}.csv\"), index=False)\n",
    "\n",
    "    print(f\"save: {safe_label}.csv\")"
   ]
  }
 ],
 "metadata": {
  "kernelspec": {
   "display_name": "project",
   "language": "python",
   "name": "python3"
  },
  "language_info": {
   "codemirror_mode": {
    "name": "ipython",
    "version": 3
   },
   "file_extension": ".py",
   "mimetype": "text/x-python",
   "name": "python",
   "nbconvert_exporter": "python",
   "pygments_lexer": "ipython3",
   "version": "3.9.21"
  }
 },
 "nbformat": 4,
 "nbformat_minor": 2
}
