{
 "cells": [
  {
   "cell_type": "markdown",
   "id": "192f3e4e",
   "metadata": {},
   "source": [
    "# README\n",
    "\n",
    "Prerequisites\n",
    "\n",
    "This code needs to be executed on colab, and the dataset used is from docs/role_split_clean.csv in github\n",
    "\n",
    "The file structure must be available on google drive\n",
    "\n",
    "```plaintext\n",
    "└── content/                         \n",
    "     └── drive/\n",
    "          └── MyDrive/   \n",
    "                └── model_fine_tuning/   \n",
    "                         └── role_split_clean.csv      \n",
    "\n",
    "```"
   ]
  },
  {
   "cell_type": "markdown",
   "id": "d396984a",
   "metadata": {},
   "source": [
    "# prepare training data"
   ]
  },
  {
   "cell_type": "code",
   "execution_count": null,
   "id": "941d873b",
   "metadata": {},
   "outputs": [],
   "source": [
    "!pip install transformers datasets peft trl accelerate bitsandbytes huggingface_hub -q\n",
    "!pip install -U bitsandbytes"
   ]
  },
  {
   "cell_type": "code",
   "execution_count": null,
   "id": "5bd92ea7",
   "metadata": {},
   "outputs": [],
   "source": [
    "!pip install  groq"
   ]
  },
  {
   "cell_type": "code",
   "execution_count": null,
   "id": "46f07db3",
   "metadata": {},
   "outputs": [],
   "source": [
    "from google.colab import drive\n",
    "drive.mount('/content/drive/')"
   ]
  },
  {
   "cell_type": "code",
   "execution_count": null,
   "id": "f10fc352",
   "metadata": {},
   "outputs": [],
   "source": [
    "folder_path = '/content/drive/MyDrive/model_fine_tuning/'\n",
    "import os\n",
    "files = os.listdir(folder_path)\n",
    "print(files)"
   ]
  },
  {
   "cell_type": "code",
   "execution_count": null,
   "id": "17d063b2",
   "metadata": {},
   "outputs": [],
   "source": [
    "import pandas as pd\n",
    "import json\n",
    "from groq import Groq\n",
    "import time\n",
    "\n",
    "client = Groq(api_key=\"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\")\n",
    "\n",
    "file_path = os.path.join(folder_path, \"role_split_clean.csv\")\n",
    "df = pd.read_csv(file_path)\n",
    "samples = []\n",
    "for i, row in df.iterrows():\n",
    "    prompt = f\"\"\"You are a professional airline crew member.\n",
    "Based on the following summary, write a realistic, professional conversation between {row['Party1_Role']} and {row['Party2_Role']}.\n",
    "Please follow this format:\n",
    "{row['Party1_Role']}: ...\n",
    "{row['Party2_Role']}: ...\n",
    "{row['Party1_Role']}: ...\n",
    "{row['Party2_Role']}: ...\n",
    "\n",
    "Keep the conversation professional, natural, and relevant to the situation.\n",
    "Summary:\n",
    "{row['objective_summary']}\n",
    "\"\"\"\n",
    "    try:\n",
    "        response = client.chat.completions.create(\n",
    "            model=\"meta-llama/llama-4-scout-17b-16e-instruct\",\n",
    "            messages=[{\"role\": \"user\", \"content\": prompt}],\n",
    "            max_tokens=512,\n",
    "            temperature=0.7\n",
    "        )\n",
    "\n",
    "        output = response.choices[0].message.content.strip()\n",
    "\n",
    "        samples.append({\n",
    "            \"instruction\": f\"As a {row['Party1_Role']}, engage in a dialogue with {row['Party2_Role']} about the following situation.\",\n",
    "            \"input\": row[\"objective_summary\"],\n",
    "            \"output\": output\n",
    "        })\n",
    "\n",
    "        print(f\"Sample {i+1} done.\")\n",
    "        time.sleep(0.5)\n",
    "\n",
    "    except Exception as e:\n",
    "        print(f\" Error at sample {i+1}: {e}\")\n",
    "with open(\"/content/drive/MyDrive/model_fine_tuning/groq_llama4_train2.jsonl\", \"w\", encoding=\"utf-8\") as f:\n",
    "    for s in samples:\n",
    "        f.write(json.dumps(s, ensure_ascii=False) + \"\\n\")\n",
    "\n",
    "print(\"All samples saved to groq_llama4_train.jsonl\")\n",
    "\n",
    "\n",
    "\n",
    "\n"
   ]
  },
  {
   "cell_type": "code",
   "execution_count": null,
   "id": "cea350de",
   "metadata": {},
   "outputs": [],
   "source": [
    "import json\n",
    "\n",
    "\n",
    "file_path = \"/content/drive/MyDrive/model_fine_tuning/groq_llama4_train2.jsonl\"\n",
    "\n",
    "\n",
    "with open(file_path, \"r\", encoding=\"utf-8\") as f:\n",
    "    for i, line in enumerate(f):\n",
    "        if i >= 20:\n",
    "            break\n",
    "        data = json.loads(line)\n",
    "        print(f\"\\n Sample {i + 1}:\")\n",
    "        print(data.get(\"output\", \"[No output field found]\"))"
   ]
  },
  {
   "cell_type": "code",
   "execution_count": null,
   "id": "2a12d74d",
   "metadata": {},
   "outputs": [],
   "source": [
    "def remove_first_line_if_here(text):\n",
    "    lines = text.strip().split(\"\\n\")\n",
    "    if lines and lines[0].strip().startswith(\"Here\"):\n",
    "        return \"\\n\".join(lines[1:]).strip()\n",
    "    return text.strip()"
   ]
  },
  {
   "cell_type": "code",
   "execution_count": null,
   "id": "3ff7158b",
   "metadata": {},
   "outputs": [],
   "source": [
    "import json\n",
    "import re\n",
    "\n",
    "\n",
    "\n",
    "\n",
    "# Rule logic:\n",
    "# Read the role names in the first and second lines of text\n",
    "\n",
    "# Determine whether both are Flight Attendant\n",
    "\n",
    "#  If yes, alternate between user and assistant in turn\n",
    "\n",
    "#  If no, set Flight Attendant to user and the other to assistant\n",
    "\n",
    "# Return to standard chat format (each sentence has role and content)\n",
    "def convert_to_chat_format_general(text):\n",
    "\n",
    "# Matches the form \"Speaker: content\"\n",
    "    pattern = r\"^([A-Za-z\\s()]+):\\s*[\\\"“]?(.*?)[\\\"”]?$\"\n",
    "    lines = text.strip().splitlines()\n",
    "\n",
    "    parsed_lines = []\n",
    "    for line in lines:\n",
    "        match = re.match(pattern, line.strip())\n",
    "        if match:\n",
    "            speaker = match.group(1).strip()\n",
    "            content = match.group(2).strip()\n",
    "            parsed_lines.append((speaker, content))\n",
    "\n",
    "\n",
    "# Less than two lines, unable to determine the role\n",
    "    if len(parsed_lines) < 2:\n",
    "        return []\n",
    "\n",
    "    speaker1, _ = parsed_lines[0]\n",
    "    speaker2, _ = parsed_lines[1]\n",
    "\n",
    "\n",
    "# Determine whether there are two Flight Attendants\n",
    "    both_fa = speaker1.lower().startswith(\"flight attendant\") and speaker2.lower().startswith(\"flight attendant\")\n",
    "\n",
    "    messages = []\n",
    "    for i, (speaker, content) in enumerate(parsed_lines):\n",
    "        if both_fa:\n",
    "            role = \"user\" if i % 2 == 0 else \"assistant\"\n",
    "        else:\n",
    "            role = \"user\" if speaker.lower().startswith(\"flight attendant\") else \"assistant\"\n",
    "\n",
    "        messages.append({\n",
    "            \"role\": role,\n",
    "            \"content\": content\n",
    "        })\n",
    "\n",
    "    return messages\n",
    "\n",
    "\n",
    "\n",
    "def convert_jsonl(input_file, output_file):\n",
    "    converted = []\n",
    "\n",
    "    with open(input_file, \"r\", encoding=\"utf-8\") as infile:\n",
    "        for line in infile:\n",
    "            data = json.loads(line)\n",
    "            output_text = data.get(\"output\", \"\")\n",
    "            output_text = remove_first_line_if_here(output_text)\n",
    "\n",
    "\n",
    "\n",
    "            messages = convert_to_chat_format_general(output_text)\n",
    "\n",
    "\n",
    "\n",
    "            if messages:\n",
    "                converted.append({\"messages\": messages})\n",
    "            print(messages)\n",
    "    print(len(converted))\n",
    "\n",
    "    with open(output_file, \"w\", encoding=\"utf-8\") as outfile:\n",
    "        for item in converted:\n",
    "            outfile.write(json.dumps(item, ensure_ascii=False) + \"\\n\")\n",
    "\n",
    "\n",
    "\n",
    "\n",
    "\n",
    "input_path =  \"/content/drive/MyDrive/model_fine_tuning/groq_llama4_train2.jsonl\"\n",
    "output_path = \"/content/drive/MyDrive/model_fine_tuning/converted_chat_messages.jsonl\"\n",
    "convert_jsonl(input_path, output_path)"
   ]
  },
  {
   "cell_type": "markdown",
   "id": "62005629",
   "metadata": {},
   "source": [
    "# fine tung model by using groq_llama4_converted_training dataset"
   ]
  },
  {
   "cell_type": "code",
   "execution_count": null,
   "id": "371b0a13",
   "metadata": {},
   "outputs": [],
   "source": [
    "from transformers import AutoModelForCausalLM, AutoTokenizer, TrainingArguments, BitsAndBytesConfig\n",
    "from peft import prepare_model_for_kbit_training, LoraConfig, get_peft_model, PeftModel\n",
    "from trl import SFTTrainer\n",
    "from datasets import load_dataset\n",
    "from huggingface_hub import notebook_login, HfApi\n",
    "import torch\n"
   ]
  },
  {
   "cell_type": "code",
   "execution_count": null,
   "id": "1b9db7d6",
   "metadata": {},
   "outputs": [],
   "source": [
    "train_dataset = load_dataset(\"json\", data_files=\"/content/drive/MyDrive/model_fine_tuning/converted_chat_messages.jsonl\", split=\"train\", keep_in_memory=True)"
   ]
  },
  {
   "cell_type": "code",
   "execution_count": null,
   "id": "eef9e7ce",
   "metadata": {},
   "outputs": [],
   "source": [
    "from huggingface_hub import notebook_login\n",
    "notebook_login()\n",
    "model_name = \"Qwen/Qwen3-8B\"\n",
    "tokenizer = AutoTokenizer.from_pretrained(model_name, trust_remote_code=True)\n",
    "tokenizer.pad_token = tokenizer.eos_token\n",
    "\n",
    "from transformers import BitsAndBytesConfig\n",
    "bnb_config = BitsAndBytesConfig(\n",
    "    load_in_4bit=True,\n",
    "    bnb_4bit_compute_dtype=torch.float16,\n",
    "    bnb_4bit_use_double_quant=True,\n",
    "    bnb_4bit_quant_type=\"nf4\",\n",
    "    llm_int8_enable_fp32_cpu_offload=True  )"
   ]
  },
  {
   "cell_type": "code",
   "execution_count": null,
   "id": "fed0a499",
   "metadata": {},
   "outputs": [],
   "source": [
    "model = AutoModelForCausalLM.from_pretrained(\n",
    "    model_name,\n",
    "    device_map=\"auto\",\n",
    "    quantization_config=bnb_config,\n",
    "    trust_remote_code=True\n",
    ")\n"
   ]
  },
  {
   "cell_type": "code",
   "execution_count": null,
   "id": "4634ab49",
   "metadata": {},
   "outputs": [],
   "source": [
    "\n",
    "model = prepare_model_for_kbit_training(model)\n",
    "lora_config = LoraConfig(\n",
    "    r=8,\n",
    "    lora_alpha=16,\n",
    "    lora_dropout=0.05,\n",
    "    bias=\"none\",\n",
    "    task_type=\"CAUSAL_LM\",\n",
    "    target_modules=[\"c_attn\", \"q_proj\", \"v_proj\"]\n",
    ")\n",
    "model = get_peft_model(model, lora_config)\n",
    "\n",
    "training_args = TrainingArguments(\n",
    "    output_dir=\"/content/drive/MyDrive/model_fine_tuning/qwen3-8b-aviation-conflict-ft\",\n",
    "    per_device_train_batch_size=1,\n",
    "    gradient_accumulation_steps=4,\n",
    "    learning_rate=2e-4,\n",
    "    num_train_epochs=3,\n",
    "    fp16=True,\n",
    "    logging_steps=10,\n",
    "    save_strategy=\"epoch\",\n",
    "    save_total_limit=1,\n",
    "    push_to_hub=False\n",
    ")\n",
    "\n",
    "trainer = SFTTrainer(\n",
    "    model=model,\n",
    "    train_dataset=train_dataset,\n",
    "        args=training_args,\n",
    "\n",
    ")\n",
    "\n",
    "\n",
    "trainer.train()\n",
    "\n",
    "# trainer.push_to_hub(tags=[\"qwen3\", \"chat\", \"aviation-conflict\"])\n",
    "# print(\"The model has been uploaded to Hugging Face\")\n"
   ]
  },
  {
   "cell_type": "code",
   "execution_count": null,
   "id": "6032b8d0",
   "metadata": {},
   "outputs": [],
   "source": [
    "model_name = \"Qwen/Qwen3-8B\"\n",
    "base_model = AutoModelForCausalLM.from_pretrained(model_name, trust_remote_code=True)\n",
    "\n"
   ]
  },
  {
   "cell_type": "code",
   "execution_count": null,
   "id": "35477524",
   "metadata": {},
   "outputs": [],
   "source": [
    "merged_model = PeftModel.from_pretrained(base_model,\"/content/drive/MyDrive/model_fine_tuning/qwen3-8b-aviation-conflict-ft/checkpoint-315\")\n",
    "merged_model = merged_model.merge_and_unload()\n",
    "save_path = \"./qwen3-8b-merged-full\"\n",
    "merged_model.save_pretrained(save_path)\n",
    "tokenizer.save_pretrained(save_path)"
   ]
  },
  {
   "cell_type": "code",
   "execution_count": null,
   "id": "4881a6b3",
   "metadata": {},
   "outputs": [],
   "source": [
    "from huggingface_hub import HfApi\n",
    "\n",
    "api = HfApi()\n",
    "api.create_repo(\n",
    "    repo_id=\"Yutao-Zhou/qwen3-8b-aviation-conflict-ft\",\n",
    "    repo_type=\"model\",\n",
    "    exist_ok=True\n",
    ")"
   ]
  },
  {
   "cell_type": "code",
   "execution_count": null,
   "id": "9d8da39c",
   "metadata": {},
   "outputs": [],
   "source": [
    "\n",
    "api.upload_folder(\n",
    "    folder_path=save_path,\n",
    "    path_in_repo=\"\",\n",
    "    repo_id=\"Yutao-Zhou/qwen3-8b-aviation-conflict-ft\",\n",
    "    repo_type=\"model\"\n",
    ")"
   ]
  },
  {
   "cell_type": "markdown",
   "id": "c0841019",
   "metadata": {},
   "source": [
    "# test model"
   ]
  },
  {
   "cell_type": "code",
   "execution_count": null,
   "id": "7e9097cd",
   "metadata": {},
   "outputs": [],
   "source": [
    "from transformers import AutoTokenizer, AutoModelForCausalLM\n",
    "import torch\n",
    "model_name = \"Yutao-Zhou/qwen3-8b-aviation-conflict-ft\"\n",
    "tokenizer = AutoTokenizer.from_pretrained(model_name, trust_remote_code=True)\n",
    "tokenizer.pad_token = tokenizer.eos_token\n",
    "model = AutoModelForCausalLM.from_pretrained(\n",
    "    model_name,\n",
    "    torch_dtype=torch.float16,\n",
    "    device_map=\"auto\",\n",
    "    trust_remote_code=True\n",
    ")\n"
   ]
  },
  {
   "cell_type": "code",
   "execution_count": null,
   "id": "4fcfee6b",
   "metadata": {},
   "outputs": [],
   "source": [
    "dialog_history = []\n",
    "\n",
    "\n",
    "def multi_turn_chat(user_input, history):\n",
    "    history.append(f\"User: {user_input}\")\n",
    "\n",
    "\n",
    "    prompt = \"\\n\".join(history) + \"\\nAssistant:\"\n",
    "\n",
    "    inputs = tokenizer(prompt, return_tensors=\"pt\").to(model.device)\n",
    "\n",
    "    with torch.no_grad():\n",
    "       outputs = model.generate(\n",
    "            **inputs,\n",
    "            max_new_tokens=150,\n",
    "            do_sample=True,\n",
    "            pad_token_id=tokenizer.pad_token_id,\n",
    "            eos_token_id=tokenizer.eos_token_id\n",
    ")\n",
    "\n",
    "    full_output = tokenizer.decode(outputs[0], skip_special_tokens=True)\n",
    "    reply = full_output.split(\"Assistant:\")[-1].strip()\n",
    "\n",
    "\n",
    "    for end_marker in [\"\\nUser:\",\"\\nAssistant:\",\"\\nAI:\",\"\\nSupervisor:\"]:\n",
    "        if end_marker in reply:\n",
    "            reply = reply.split(end_marker)[0].strip()\n",
    "            break\n",
    "\n",
    "    ai_response = reply\n",
    "\n",
    "\n",
    "    history.append(f\"AI: {ai_response}\")\n",
    "    return ai_response, history\n",
    "\n",
    "\n",
    "\n",
    "while True:\n",
    "    user_input = input(\"User：\")\n",
    "    if user_input.lower() in [\"exit\", \"quit\"]:\n",
    "        break\n",
    "    reply, dialog_history = multi_turn_chat(user_input, dialog_history)\n",
    "    print(\"Assistant：\" + reply)"
   ]
  },
  {
   "cell_type": "code",
   "execution_count": null,
   "id": "e5e5391e",
   "metadata": {},
   "outputs": [],
   "source": []
  },
  {
   "cell_type": "code",
   "execution_count": null,
   "id": "1c6f7fb9",
   "metadata": {},
   "outputs": [],
   "source": []
  },
  {
   "cell_type": "code",
   "execution_count": null,
   "id": "7a1ec2fb",
   "metadata": {},
   "outputs": [],
   "source": []
  },
  {
   "cell_type": "code",
   "execution_count": null,
   "id": "32663c4e",
   "metadata": {},
   "outputs": [],
   "source": []
  },
  {
   "cell_type": "code",
   "execution_count": null,
   "id": "5edf46a4",
   "metadata": {},
   "outputs": [],
   "source": []
  },
  {
   "cell_type": "code",
   "execution_count": null,
   "id": "f60882eb",
   "metadata": {},
   "outputs": [],
   "source": []
  },
  {
   "cell_type": "code",
   "execution_count": null,
   "id": "9a7be3e3",
   "metadata": {},
   "outputs": [],
   "source": []
  }
 ],
 "metadata": {
  "hide_input": false,
  "kernelspec": {
   "display_name": "Python 3 (ipykernel)",
   "language": "python",
   "name": "python3"
  },
  "language_info": {
   "codemirror_mode": {
    "name": "ipython",
    "version": 3
   },
   "file_extension": ".py",
   "mimetype": "text/x-python",
   "name": "python",
   "nbconvert_exporter": "python",
   "pygments_lexer": "ipython3",
   "version": "3.8.10"
  },
  "toc": {
   "base_numbering": 1,
   "nav_menu": {},
   "number_sections": true,
   "sideBar": true,
   "skip_h1_title": false,
   "title_cell": "Table of Contents",
   "title_sidebar": "Contents",
   "toc_cell": false,
   "toc_position": {},
   "toc_section_display": true,
   "toc_window_display": false
  },
  "varInspector": {
   "cols": {
    "lenName": 16,
    "lenType": 16,
    "lenVar": 40
   },
   "kernels_config": {
    "python": {
     "delete_cmd_postfix": "",
     "delete_cmd_prefix": "del ",
     "library": "var_list.py",
     "varRefreshCmd": "print(var_dic_list())"
    },
    "r": {
     "delete_cmd_postfix": ") ",
     "delete_cmd_prefix": "rm(",
     "library": "var_list.r",
     "varRefreshCmd": "cat(var_dic_list()) "
    }
   },
   "types_to_exclude": [
    "module",
    "function",
    "builtin_function_or_method",
    "instance",
    "_Feature"
   ],
   "window_display": false
  }
 },
 "nbformat": 4,
 "nbformat_minor": 5
}
