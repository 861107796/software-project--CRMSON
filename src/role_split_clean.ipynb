{
 "cells": [
  {
   "cell_type": "code",
   "execution_count": 1,
   "metadata": {},
   "outputs": [],
   "source": [
    "import pandas as pd\n",
    "import os\n",
    "\n",
    "df = pd.read_csv(\"../docs/event_objective_summary.csv\")\n",
    "output_folder = '../docs/'\n"
   ]
  },
  {
   "cell_type": "code",
   "execution_count": 2,
   "metadata": {},
   "outputs": [],
   "source": [
    "df = df.drop(['Person 1_Location Of Person','Person 1.2_Reporter Organization', 'Person 1.3_Function', 'Person 1.4_Qualification', 'Person 1.5_Experience', 'Person 1.6_Cabin Activity','Person 1.10_ASRS Report Number.Accession Number','Person 2_Location Of Person', 'Person 2.1_Location In Aircraft',\n",
    "       'Person 2.2_Reporter Organization', 'Person 2.3_Function',\n",
    "       'Person 2.4_Qualification', 'Person 2.5_Experience',\n",
    "       'Person 2.6_Cabin Activity', 'Person 2.7_Human Factors',\n",
    "       'Person 2.8_Communication Breakdown',\n",
    "       'Person 2.9_UAS Communication Breakdown',\n",
    "       'Person 2.10_ASRS Report Number.Accession Number',\n",
    "       'Events.1_Miss Distance','Report 1.1_Callback',  'Report 2.1_Callback', 'Events_Anomaly',\n",
    "       'Events.2_Were Passengers Involved In Event', 'Events.3_Detector',\n",
    "       'Events.4_When Detected', 'Events.5_Result',\n",
    "       'Assessments_Contributing Factors / Situations',\n",
    "       'Assessments.1_Primary Problem', 'Report 1_Narrative',\n",
    "       'Report 2_Narrative', 'Report 1.2_Synopsis','Person 1.1_Location In Aircraft', 'Person 1.7_Human Factors'], axis=1)"
   ]
  },
  {
   "cell_type": "code",
   "execution_count": 3,
   "metadata": {},
   "outputs": [
    {
     "name": "stdout",
     "output_type": "stream",
     "text": [
      "Index(['ACN', 'Person 1.8_Communication Breakdown', 'objective_summary',\n",
      "       'assigned_labels'],\n",
      "      dtype='object')\n"
     ]
    }
   ],
   "source": [
    "print(df.columns)"
   ]
  },
  {
   "cell_type": "code",
   "execution_count": 4,
   "metadata": {},
   "outputs": [
    {
     "data": {
      "text/html": [
       "<div>\n",
       "<style scoped>\n",
       "    .dataframe tbody tr th:only-of-type {\n",
       "        vertical-align: middle;\n",
       "    }\n",
       "\n",
       "    .dataframe tbody tr th {\n",
       "        vertical-align: top;\n",
       "    }\n",
       "\n",
       "    .dataframe thead th {\n",
       "        text-align: right;\n",
       "    }\n",
       "</style>\n",
       "<table border=\"1\" class=\"dataframe\">\n",
       "  <thead>\n",
       "    <tr style=\"text-align: right;\">\n",
       "      <th></th>\n",
       "      <th>ACN</th>\n",
       "      <th>Party1_Role</th>\n",
       "      <th>Party2_Role</th>\n",
       "      <th>objective_summary</th>\n",
       "      <th>assigned_labels</th>\n",
       "    </tr>\n",
       "  </thead>\n",
       "  <tbody>\n",
       "    <tr>\n",
       "      <th>0</th>\n",
       "      <td>2068792</td>\n",
       "      <td>Flight Attendant</td>\n",
       "      <td>Flight Attendant</td>\n",
       "      <td>A flight attendant discovered an open biohazar...</td>\n",
       "      <td>safety related, crew-related issues, operation...</td>\n",
       "    </tr>\n",
       "    <tr>\n",
       "      <th>1</th>\n",
       "      <td>2100755</td>\n",
       "      <td>Flight Attendant</td>\n",
       "      <td>Ground Personnel</td>\n",
       "      <td>The incident arose from a security breach invo...</td>\n",
       "      <td>lithium batteries, training, communication iss...</td>\n",
       "    </tr>\n",
       "    <tr>\n",
       "      <th>2</th>\n",
       "      <td>2102491</td>\n",
       "      <td>Flight Attendant</td>\n",
       "      <td>Flight Attendant</td>\n",
       "      <td>The incident involved an off-duty Flight Atten...</td>\n",
       "      <td>safety related, crew-related issues, operation...</td>\n",
       "    </tr>\n",
       "    <tr>\n",
       "      <th>3</th>\n",
       "      <td>2119017</td>\n",
       "      <td>Flight Attendant</td>\n",
       "      <td>Ground Personnel</td>\n",
       "      <td>The incident involved a flight attendant who w...</td>\n",
       "      <td>between attendant and passengers, crew-related...</td>\n",
       "    </tr>\n",
       "    <tr>\n",
       "      <th>4</th>\n",
       "      <td>2168329</td>\n",
       "      <td>Flight Attendant</td>\n",
       "      <td>Ground Personnel</td>\n",
       "      <td>The incident involved a flight attendant (Part...</td>\n",
       "      <td>lithium batteries, between attendant and crew,...</td>\n",
       "    </tr>\n",
       "  </tbody>\n",
       "</table>\n",
       "</div>"
      ],
      "text/plain": [
       "       ACN       Party1_Role       Party2_Role  \\\n",
       "0  2068792  Flight Attendant  Flight Attendant   \n",
       "1  2100755  Flight Attendant  Ground Personnel   \n",
       "2  2102491  Flight Attendant  Flight Attendant   \n",
       "3  2119017  Flight Attendant  Ground Personnel   \n",
       "4  2168329  Flight Attendant  Ground Personnel   \n",
       "\n",
       "                                   objective_summary  \\\n",
       "0  A flight attendant discovered an open biohazar...   \n",
       "1  The incident arose from a security breach invo...   \n",
       "2  The incident involved an off-duty Flight Atten...   \n",
       "3  The incident involved a flight attendant who w...   \n",
       "4  The incident involved a flight attendant (Part...   \n",
       "\n",
       "                                     assigned_labels  \n",
       "0  safety related, crew-related issues, operation...  \n",
       "1  lithium batteries, training, communication iss...  \n",
       "2  safety related, crew-related issues, operation...  \n",
       "3  between attendant and passengers, crew-related...  \n",
       "4  lithium batteries, between attendant and crew,...  "
      ]
     },
     "execution_count": 4,
     "metadata": {},
     "output_type": "execute_result"
    }
   ],
   "source": [
    "def split_parties(row):\n",
    "    try:\n",
    "        parts = row.split(';')\n",
    "        party1 = parts[0].replace(\"Party1\", \"\").strip()\n",
    "        party2 = parts[1].replace(\"Party2\", \"\").strip()\n",
    "        return pd.Series([party1, party2])\n",
    "    except:\n",
    "        return pd.Series([None, None])\n",
    "\n",
    "\n",
    "df[['Party1_Role', 'Party2_Role']] = df['Person 1.8_Communication Breakdown'].apply(split_parties)\n",
    "\n",
    "\n",
    "df.drop(columns=['Person 1.8_Communication Breakdown'], inplace=True)\n",
    "\n",
    "\n",
    "cols = list(df.columns)\n",
    "acn_index = cols.index('ACN')\n",
    "\n",
    "\n",
    "new_order = (\n",
    "    cols[:acn_index + 1] +\n",
    "    ['Party1_Role', 'Party2_Role'] +\n",
    "    [col for col in cols[acn_index + 1:] if col not in ['Party1_Role', 'Party2_Role']]\n",
    ")\n",
    "\n",
    "df = df[new_order]\n",
    "\n",
    "\n",
    "df.head()"
   ]
  },
  {
   "cell_type": "code",
   "execution_count": 5,
   "metadata": {},
   "outputs": [],
   "source": [
    "output_path = os.path.join(output_folder, 'role_split_clean.csv')\n",
    "df.to_csv(output_path, index=False)"
   ]
  }
 ],
 "metadata": {
  "kernelspec": {
   "display_name": "project",
   "language": "python",
   "name": "python3"
  },
  "language_info": {
   "codemirror_mode": {
    "name": "ipython",
    "version": 3
   },
   "file_extension": ".py",
   "mimetype": "text/x-python",
   "name": "python",
   "nbconvert_exporter": "python",
   "pygments_lexer": "ipython3",
   "version": "3.9.21"
  }
 },
 "nbformat": 4,
 "nbformat_minor": 2
}
